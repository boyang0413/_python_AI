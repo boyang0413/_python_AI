{
 "cells": [
  {
   "cell_type": "code",
   "execution_count": null,
   "metadata": {},
   "outputs": [],
   "source": [
    "import pandas as pd\n",
    "info2023=pd.read_csv('每日各站進出站人數2023.csv')\n",
    "siteinfo=pd.read_csv('車站基本資料集.csv')\n",
    "df1=pd.merge(info2023,siteinfo,left_on='staCode',right_on='code')"
   ]
  },
  {
   "cell_type": "code",
   "execution_count": null,
   "metadata": {},
   "outputs": [],
   "source": [
    "df2=df1[['trnOpDate','staCode','站名','gateOutGoingCnt','地址']]\n",
    "df2.columns=['日期','code','站名','出站','地址']\n",
    "df2.info()"
   ]
  },
  {
   "cell_type": "code",
   "execution_count": null,
   "metadata": {},
   "outputs": [],
   "source": [
    "df2['日期']=pd.to_datetime(df2['日期'].astype(str))\n",
    "df2"
   ]
  },
  {
   "cell_type": "code",
   "execution_count": null,
   "metadata": {},
   "outputs": [],
   "source": [
    "df2.query('站名!=\"臺北\"')"
   ]
  },
  {
   "cell_type": "code",
   "execution_count": null,
   "metadata": {},
   "outputs": [],
   "source": [
    "df2.query('出站>30000')"
   ]
  },
  {
   "cell_type": "code",
   "execution_count": null,
   "metadata": {},
   "outputs": [],
   "source": [
    "df2.query('出站>30000 and 站名==\"臺中\"')"
   ]
  },
  {
   "cell_type": "code",
   "execution_count": 27,
   "metadata": {},
   "outputs": [
    {
     "data": {
      "text/html": [
       "<div>\n",
       "<style scoped>\n",
       "    .dataframe tbody tr th:only-of-type {\n",
       "        vertical-align: middle;\n",
       "    }\n",
       "\n",
       "    .dataframe tbody tr th {\n",
       "        vertical-align: top;\n",
       "    }\n",
       "\n",
       "    .dataframe thead th {\n",
       "        text-align: right;\n",
       "    }\n",
       "</style>\n",
       "<table border=\"1\" class=\"dataframe\">\n",
       "  <thead>\n",
       "    <tr style=\"text-align: right;\">\n",
       "      <th></th>\n",
       "      <th>日期</th>\n",
       "      <th>code</th>\n",
       "      <th>站名</th>\n",
       "      <th>出站</th>\n",
       "      <th>地址</th>\n",
       "    </tr>\n",
       "  </thead>\n",
       "  <tbody>\n",
       "    <tr>\n",
       "      <th>27081</th>\n",
       "      <td>2023-04-25</td>\n",
       "      <td>1210</td>\n",
       "      <td>新竹</td>\n",
       "      <td>16058</td>\n",
       "      <td>新竹市 東區榮光里中華路二段 445 號</td>\n",
       "    </tr>\n",
       "    <tr>\n",
       "      <th>27319</th>\n",
       "      <td>2023-04-26</td>\n",
       "      <td>1210</td>\n",
       "      <td>新竹</td>\n",
       "      <td>16156</td>\n",
       "      <td>新竹市 東區榮光里中華路二段 445 號</td>\n",
       "    </tr>\n",
       "    <tr>\n",
       "      <th>27557</th>\n",
       "      <td>2023-04-27</td>\n",
       "      <td>1210</td>\n",
       "      <td>新竹</td>\n",
       "      <td>16439</td>\n",
       "      <td>新竹市 東區榮光里中華路二段 445 號</td>\n",
       "    </tr>\n",
       "    <tr>\n",
       "      <th>27795</th>\n",
       "      <td>2023-04-28</td>\n",
       "      <td>1210</td>\n",
       "      <td>新竹</td>\n",
       "      <td>21705</td>\n",
       "      <td>新竹市 東區榮光里中華路二段 445 號</td>\n",
       "    </tr>\n",
       "    <tr>\n",
       "      <th>28032</th>\n",
       "      <td>2023-04-29</td>\n",
       "      <td>1210</td>\n",
       "      <td>新竹</td>\n",
       "      <td>22802</td>\n",
       "      <td>新竹市 東區榮光里中華路二段 445 號</td>\n",
       "    </tr>\n",
       "    <tr>\n",
       "      <th>...</th>\n",
       "      <td>...</td>\n",
       "      <td>...</td>\n",
       "      <td>...</td>\n",
       "      <td>...</td>\n",
       "      <td>...</td>\n",
       "    </tr>\n",
       "    <tr>\n",
       "      <th>47738</th>\n",
       "      <td>2023-07-21</td>\n",
       "      <td>1210</td>\n",
       "      <td>新竹</td>\n",
       "      <td>17456</td>\n",
       "      <td>新竹市 東區榮光里中華路二段 445 號</td>\n",
       "    </tr>\n",
       "    <tr>\n",
       "      <th>47976</th>\n",
       "      <td>2023-07-22</td>\n",
       "      <td>1210</td>\n",
       "      <td>新竹</td>\n",
       "      <td>19011</td>\n",
       "      <td>新竹市 東區榮光里中華路二段 445 號</td>\n",
       "    </tr>\n",
       "    <tr>\n",
       "      <th>48215</th>\n",
       "      <td>2023-07-23</td>\n",
       "      <td>1210</td>\n",
       "      <td>新竹</td>\n",
       "      <td>22006</td>\n",
       "      <td>新竹市 東區榮光里中華路二段 445 號</td>\n",
       "    </tr>\n",
       "    <tr>\n",
       "      <th>48454</th>\n",
       "      <td>2023-07-24</td>\n",
       "      <td>1210</td>\n",
       "      <td>新竹</td>\n",
       "      <td>17562</td>\n",
       "      <td>新竹市 東區榮光里中華路二段 445 號</td>\n",
       "    </tr>\n",
       "    <tr>\n",
       "      <th>48692</th>\n",
       "      <td>2023-07-25</td>\n",
       "      <td>1210</td>\n",
       "      <td>新竹</td>\n",
       "      <td>16672</td>\n",
       "      <td>新竹市 東區榮光里中華路二段 445 號</td>\n",
       "    </tr>\n",
       "  </tbody>\n",
       "</table>\n",
       "<p>92 rows × 5 columns</p>\n",
       "</div>"
      ],
      "text/plain": [
       "              日期  code  站名     出站                    地址\n",
       "27081 2023-04-25  1210  新竹  16058  新竹市 東區榮光里中華路二段 445 號\n",
       "27319 2023-04-26  1210  新竹  16156  新竹市 東區榮光里中華路二段 445 號\n",
       "27557 2023-04-27  1210  新竹  16439  新竹市 東區榮光里中華路二段 445 號\n",
       "27795 2023-04-28  1210  新竹  21705  新竹市 東區榮光里中華路二段 445 號\n",
       "28032 2023-04-29  1210  新竹  22802  新竹市 東區榮光里中華路二段 445 號\n",
       "...          ...   ...  ..    ...                   ...\n",
       "47738 2023-07-21  1210  新竹  17456  新竹市 東區榮光里中華路二段 445 號\n",
       "47976 2023-07-22  1210  新竹  19011  新竹市 東區榮光里中華路二段 445 號\n",
       "48215 2023-07-23  1210  新竹  22006  新竹市 東區榮光里中華路二段 445 號\n",
       "48454 2023-07-24  1210  新竹  17562  新竹市 東區榮光里中華路二段 445 號\n",
       "48692 2023-07-25  1210  新竹  16672  新竹市 東區榮光里中華路二段 445 號\n",
       "\n",
       "[92 rows x 5 columns]"
      ]
     },
     "execution_count": 27,
     "metadata": {},
     "output_type": "execute_result"
    }
   ],
   "source": [
    "df2.query('日期>=\"2023-04-25\" and 日期<=\"2023-07-25\" and 站名==\"新竹\"')"
   ]
  },
  {
   "cell_type": "code",
   "execution_count": null,
   "metadata": {},
   "outputs": [],
   "source": []
  }
 ],
 "metadata": {
  "kernelspec": {
   "display_name": "Python 3",
   "language": "python",
   "name": "python3"
  },
  "language_info": {
   "codemirror_mode": {
    "name": "ipython",
    "version": 3
   },
   "file_extension": ".py",
   "mimetype": "text/x-python",
   "name": "python",
   "nbconvert_exporter": "python",
   "pygments_lexer": "ipython3",
   "version": "3.12.3"
  }
 },
 "nbformat": 4,
 "nbformat_minor": 2
}
