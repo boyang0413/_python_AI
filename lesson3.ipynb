{
 "cells": [
  {
   "cell_type": "code",
   "execution_count": null,
   "metadata": {},
   "outputs": [],
   "source": [
    "import numpy as np\n",
    "array1=np.linspace(-3,3,num=100)\n",
    "array1*10"
   ]
  },
  {
   "cell_type": "code",
   "execution_count": null,
   "metadata": {},
   "outputs": [],
   "source": [
    "content=np.random.randint(50,high=101,size=(50,5))\n",
    "import pandas as pd\n",
    "df1=pd.DataFrame(data=content,\n",
    "             index=[f'第{i}號' for i in range(1,51)],\n",
    "             columns=['國文','英文','數學','自然','社會'])\n",
    "#df1['國文']+df1['英文']+df1['數學']+df1['自然']+df1['社會']\n",
    "df1.loc['第1號':'第5號']\n"
   ]
  },
  {
   "cell_type": "code",
   "execution_count": null,
   "metadata": {},
   "outputs": [],
   "source": [
    "df1.iloc[0:5]\n",
    "#df1.iloc[index]"
   ]
  },
  {
   "cell_type": "code",
   "execution_count": null,
   "metadata": {},
   "outputs": [],
   "source": [
    "st_gradesum=df1.sum(axis=1)\n",
    "#axis0=直，1=橫\n",
    "st_grademean=df1.mean(axis=1)\n",
    "df1['總分']=st_gradesum\n",
    "df1['平均']=st_grademean\n",
    "df1"
   ]
  },
  {
   "cell_type": "code",
   "execution_count": null,
   "metadata": {},
   "outputs": [],
   "source": [
    "df1_sort=df1.sort_values(by='平均',ascending=False)\n",
    "df1_sort.iloc[:5]\n",
    "df1_sort.iloc[-5:]"
   ]
  },
  {
   "cell_type": "code",
   "execution_count": null,
   "metadata": {},
   "outputs": [],
   "source": []
  }
 ],
 "metadata": {
  "kernelspec": {
   "display_name": "Python 3",
   "language": "python",
   "name": "python3"
  },
  "language_info": {
   "codemirror_mode": {
    "name": "ipython",
    "version": 3
   },
   "file_extension": ".py",
   "mimetype": "text/x-python",
   "name": "python",
   "nbconvert_exporter": "python",
   "pygments_lexer": "ipython3",
   "version": "3.12.3"
  }
 },
 "nbformat": 4,
 "nbformat_minor": 2
}
